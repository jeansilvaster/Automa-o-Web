{
 "cells": [
  {
   "cell_type": "markdown",
   "metadata": {},
   "source": [
    "# Solução - Projeto Automação Web - Busca de Preços"
   ]
  },
  {
   "cell_type": "code",
   "execution_count": 1,
   "metadata": {},
   "outputs": [
    {
     "data": {
      "text/html": [
       "<div>\n",
       "<style scoped>\n",
       "    .dataframe tbody tr th:only-of-type {\n",
       "        vertical-align: middle;\n",
       "    }\n",
       "\n",
       "    .dataframe tbody tr th {\n",
       "        vertical-align: top;\n",
       "    }\n",
       "\n",
       "    .dataframe thead th {\n",
       "        text-align: right;\n",
       "    }\n",
       "</style>\n",
       "<table border=\"1\" class=\"dataframe\">\n",
       "  <thead>\n",
       "    <tr style=\"text-align: right;\">\n",
       "      <th></th>\n",
       "      <th>Link Produto</th>\n",
       "      <th>Amazon</th>\n",
       "      <th>Lojas Americanas</th>\n",
       "      <th>Magazine Luiza</th>\n",
       "      <th>Preço Original</th>\n",
       "      <th>Preço Atual</th>\n",
       "      <th>Local</th>\n",
       "    </tr>\n",
       "  </thead>\n",
       "  <tbody>\n",
       "    <tr>\n",
       "      <th>0</th>\n",
       "      <td>iPhone 11 Apple 64GB Preto</td>\n",
       "      <td>https://www.amazon.com.br/IPHONE-11-PRETO-TELA...</td>\n",
       "      <td>https://www.americanas.com.br/produto/16113159...</td>\n",
       "      <td>https://www.magazineluiza.com.br/iphone-11-app...</td>\n",
       "      <td>5297</td>\n",
       "      <td>-</td>\n",
       "      <td>-</td>\n",
       "    </tr>\n",
       "    <tr>\n",
       "      <th>1</th>\n",
       "      <td>Smart TV LED 50'' LG Ultra HD 4K Thinq AI</td>\n",
       "      <td>https://www.amazon.com.br/Smart-LG-Intelig%C3%...</td>\n",
       "      <td>https://www.americanas.com.br/produto/49516150...</td>\n",
       "      <td>https://www.magazineluiza.com.br/smart-tv-uhd-...</td>\n",
       "      <td>2900</td>\n",
       "      <td>-</td>\n",
       "      <td>-</td>\n",
       "    </tr>\n",
       "  </tbody>\n",
       "</table>\n",
       "</div>"
      ],
      "text/plain": [
       "                                Link Produto  \\\n",
       "0                 iPhone 11 Apple 64GB Preto   \n",
       "1  Smart TV LED 50'' LG Ultra HD 4K Thinq AI   \n",
       "\n",
       "                                              Amazon  \\\n",
       "0  https://www.amazon.com.br/IPHONE-11-PRETO-TELA...   \n",
       "1  https://www.amazon.com.br/Smart-LG-Intelig%C3%...   \n",
       "\n",
       "                                    Lojas Americanas  \\\n",
       "0  https://www.americanas.com.br/produto/16113159...   \n",
       "1  https://www.americanas.com.br/produto/49516150...   \n",
       "\n",
       "                                      Magazine Luiza  Preço Original  \\\n",
       "0  https://www.magazineluiza.com.br/iphone-11-app...            5297   \n",
       "1  https://www.magazineluiza.com.br/smart-tv-uhd-...            2900   \n",
       "\n",
       "  Preço Atual Local  \n",
       "0           -     -  \n",
       "1           -     -  "
      ]
     },
     "metadata": {},
     "output_type": "display_data"
    }
   ],
   "source": [
    "import pandas as pd\n",
    "from selenium import webdriver\n",
    "\n",
    "produtos = pd.read_excel(r'Produtos.xlsx')\n",
    "produtos = produtos.fillna('-')\n",
    "display(produtos)\n",
    "\n"
   ]
  },
  {
   "cell_type": "code",
   "execution_count": 2,
   "metadata": {},
   "outputs": [],
   "source": [
    "def transformar_texto(texto):\n",
    "    return float(texto.replace('R$', '').replace('.', '').replace(',', '.'))"
   ]
  },
  {
   "cell_type": "code",
   "execution_count": 4,
   "metadata": {},
   "outputs": [
    {
     "name": "stdout",
     "output_type": "stream",
     "text": [
      "Produto iPhone 11 Apple 64GB Preto não disponível na Amazon\n",
      "Produto iPhone 11 Apple 64GB Preto não disponível na Lojas Americanas\n",
      "Produto iPhone 11 Apple 64GB Preto não disponível na Magazine Luiza\n",
      "Produto Smart TV LED 50'' LG Ultra HD 4K Thinq AI não disponível na Amazon\n",
      "Produto Smart TV LED 50'' LG Ultra HD 4K Thinq AI não disponível na Lojas Americanas\n",
      "Produto Smart TV LED 50'' LG Ultra HD 4K Thinq AI não disponível na Magazine Luiza\n"
     ]
    }
   ],
   "source": [
    "driver = webdriver.Chrome()\n",
    "driver.set_window_position(-10000,0)\n",
    "\n",
    "enviar_email = False\n",
    "desconto_min = 0.2\n",
    "\n",
    "for i, linha in produtos.iterrows():\n",
    "    #pegar preço amazon\n",
    "    driver.get(linha['Amazon'])\n",
    "    try:\n",
    "        preco_amazon = driver.find_element_by_id('priceblock_ourprice').text\n",
    "        preco_amazon = transformar_texto(preco_amazon)\n",
    "    except:\n",
    "        try:\n",
    "            preco_amazon = driver.find_element_by_css_selector('#olp-upd-new span.a-size-base').text\n",
    "            preco_amazon = transformar_texto(preco_amazon)\n",
    "        except:\n",
    "            print('Produto {} não disponível na Amazon'.format(linha['Link Produto']))\n",
    "            preco_amazon = linha['Preço Original'] * 3\n",
    "    \n",
    "\n",
    "    #pegar o preço da lame\n",
    "    driver.get(linha['Lojas Americanas'])\n",
    "    try:\n",
    "        preco_lame = driver.find_element_by_class_name('src__BestPrice-lo2vta-5').text\n",
    "        preco_lame = transformar_texto(preco_lame)\n",
    "    except:\n",
    "        print('Produto {} não disponível na Lojas Americanas'.format(linha['Link Produto']))\n",
    "        preco_lame = linha['Preço Original'] * 3\n",
    "        \n",
    "    #pegar o preço da mglu\n",
    "    driver.get(linha['Magazine Luiza'])\n",
    "    try:\n",
    "        preco_mglu = driver.find_element_by_class_name('price-template__text').text\n",
    "        preco_mglu = transformar_texto(preco_mglu)\n",
    "    except:\n",
    "        print('Produto {} não disponível na Magazine Luiza'.format(linha['Link Produto']))\n",
    "        preco_mglu = linha['Preço Original'] * 3\n",
    "\n",
    "    preco_original = linha['Preço Original']\n",
    "    \n",
    "    lista_precos = [(preco_amazon, 'Amazon'), (preco_lame, 'Lojas Americanas'), (preco_mglu, 'Magazine Luiza'), (preco_original, 'Original')]\n",
    "    \n",
    "    lista_precos.sort()\n",
    "    \n",
    "    produtos.loc[i, 'Preço Atual'] = lista_precos[0][0]\n",
    "    produtos.loc[i, 'Local'] = lista_precos[0][1]\n",
    "    \n",
    "    if lista_precos[0][0] <= preco_original*(1-desconto_min):\n",
    "        enviar_email = True\n",
    "    "
   ]
  },
  {
   "cell_type": "code",
   "execution_count": 5,
   "metadata": {},
   "outputs": [
    {
     "data": {
      "text/html": [
       "<div>\n",
       "<style scoped>\n",
       "    .dataframe tbody tr th:only-of-type {\n",
       "        vertical-align: middle;\n",
       "    }\n",
       "\n",
       "    .dataframe tbody tr th {\n",
       "        vertical-align: top;\n",
       "    }\n",
       "\n",
       "    .dataframe thead th {\n",
       "        text-align: right;\n",
       "    }\n",
       "</style>\n",
       "<table border=\"1\" class=\"dataframe\">\n",
       "  <thead>\n",
       "    <tr style=\"text-align: right;\">\n",
       "      <th></th>\n",
       "      <th>Link Produto</th>\n",
       "      <th>Amazon</th>\n",
       "      <th>Lojas Americanas</th>\n",
       "      <th>Magazine Luiza</th>\n",
       "      <th>Preço Original</th>\n",
       "      <th>Preço Atual</th>\n",
       "      <th>Local</th>\n",
       "    </tr>\n",
       "  </thead>\n",
       "  <tbody>\n",
       "    <tr>\n",
       "      <th>0</th>\n",
       "      <td>iPhone 11 Apple 64GB Preto</td>\n",
       "      <td>https://www.amazon.com.br/IPHONE-11-PRETO-TELA...</td>\n",
       "      <td>https://www.americanas.com.br/produto/16113159...</td>\n",
       "      <td>https://www.magazineluiza.com.br/iphone-11-app...</td>\n",
       "      <td>5297</td>\n",
       "      <td>4783.87</td>\n",
       "      <td>Lojas Americanas</td>\n",
       "    </tr>\n",
       "    <tr>\n",
       "      <th>1</th>\n",
       "      <td>Smart TV LED 50'' LG Ultra HD 4K Thinq AI</td>\n",
       "      <td>https://www.amazon.com.br/Smart-LG-Intelig%C3%...</td>\n",
       "      <td>https://www.americanas.com.br/produto/49516150...</td>\n",
       "      <td>https://www.magazineluiza.com.br/smart-tv-uhd-...</td>\n",
       "      <td>2900</td>\n",
       "      <td>2459.90</td>\n",
       "      <td>Amazon</td>\n",
       "    </tr>\n",
       "  </tbody>\n",
       "</table>\n",
       "</div>"
      ],
      "text/plain": [
       "                                Link Produto  \\\n",
       "0                 iPhone 11 Apple 64GB Preto   \n",
       "1  Smart TV LED 50'' LG Ultra HD 4K Thinq AI   \n",
       "\n",
       "                                              Amazon  \\\n",
       "0  https://www.amazon.com.br/IPHONE-11-PRETO-TELA...   \n",
       "1  https://www.amazon.com.br/Smart-LG-Intelig%C3%...   \n",
       "\n",
       "                                    Lojas Americanas  \\\n",
       "0  https://www.americanas.com.br/produto/16113159...   \n",
       "1  https://www.americanas.com.br/produto/49516150...   \n",
       "\n",
       "                                      Magazine Luiza  Preço Original  \\\n",
       "0  https://www.magazineluiza.com.br/iphone-11-app...            5297   \n",
       "1  https://www.magazineluiza.com.br/smart-tv-uhd-...            2900   \n",
       "\n",
       "   Preço Atual             Local  \n",
       "0      4783.87  Lojas Americanas  \n",
       "1      2459.90            Amazon  "
      ]
     },
     "metadata": {},
     "output_type": "display_data"
    }
   ],
   "source": [
    "display(produtos)"
   ]
  },
  {
   "cell_type": "code",
   "execution_count": 8,
   "metadata": {},
   "outputs": [
    {
     "ename": "PermissionError",
     "evalue": "[Errno 13] Permission denied: 'Produtos.xlsx'",
     "output_type": "error",
     "traceback": [
      "\u001b[1;31m---------------------------------------------------------------------------\u001b[0m",
      "\u001b[1;31mPermissionError\u001b[0m                           Traceback (most recent call last)",
      "Cell \u001b[1;32mIn[8], line 5\u001b[0m\n\u001b[0;32m      2\u001b[0m outlook \u001b[38;5;241m=\u001b[39m win32\u001b[38;5;241m.\u001b[39mDispatch(\u001b[38;5;124m'\u001b[39m\u001b[38;5;124moutlook.application\u001b[39m\u001b[38;5;124m'\u001b[39m)\n\u001b[0;32m      4\u001b[0m \u001b[38;5;66;03m#salvar o arquivo\u001b[39;00m\n\u001b[1;32m----> 5\u001b[0m \u001b[43mprodutos\u001b[49m\u001b[38;5;241;43m.\u001b[39;49m\u001b[43mto_excel\u001b[49m\u001b[43m(\u001b[49m\u001b[38;5;124;43m'\u001b[39;49m\u001b[38;5;124;43mProdutos.xlsx\u001b[39;49m\u001b[38;5;124;43m'\u001b[39;49m\u001b[43m)\u001b[49m\n\u001b[0;32m      6\u001b[0m \u001b[38;5;66;03m#enviar email\u001b[39;00m\n\u001b[0;32m      8\u001b[0m \u001b[38;5;28;01mif\u001b[39;00m enviar_email:\n\u001b[0;32m      9\u001b[0m     \u001b[38;5;66;03m#enviar email\u001b[39;00m\n",
      "File \u001b[1;32mc:\\anaconda\\Lib\\site-packages\\pandas\\core\\generic.py:2252\u001b[0m, in \u001b[0;36mNDFrame.to_excel\u001b[1;34m(self, excel_writer, sheet_name, na_rep, float_format, columns, header, index, index_label, startrow, startcol, engine, merge_cells, inf_rep, freeze_panes, storage_options)\u001b[0m\n\u001b[0;32m   2239\u001b[0m \u001b[38;5;28;01mfrom\u001b[39;00m \u001b[38;5;21;01mpandas\u001b[39;00m\u001b[38;5;21;01m.\u001b[39;00m\u001b[38;5;21;01mio\u001b[39;00m\u001b[38;5;21;01m.\u001b[39;00m\u001b[38;5;21;01mformats\u001b[39;00m\u001b[38;5;21;01m.\u001b[39;00m\u001b[38;5;21;01mexcel\u001b[39;00m \u001b[38;5;28;01mimport\u001b[39;00m ExcelFormatter\n\u001b[0;32m   2241\u001b[0m formatter \u001b[38;5;241m=\u001b[39m ExcelFormatter(\n\u001b[0;32m   2242\u001b[0m     df,\n\u001b[0;32m   2243\u001b[0m     na_rep\u001b[38;5;241m=\u001b[39mna_rep,\n\u001b[1;32m   (...)\u001b[0m\n\u001b[0;32m   2250\u001b[0m     inf_rep\u001b[38;5;241m=\u001b[39minf_rep,\n\u001b[0;32m   2251\u001b[0m )\n\u001b[1;32m-> 2252\u001b[0m \u001b[43mformatter\u001b[49m\u001b[38;5;241;43m.\u001b[39;49m\u001b[43mwrite\u001b[49m\u001b[43m(\u001b[49m\n\u001b[0;32m   2253\u001b[0m \u001b[43m    \u001b[49m\u001b[43mexcel_writer\u001b[49m\u001b[43m,\u001b[49m\n\u001b[0;32m   2254\u001b[0m \u001b[43m    \u001b[49m\u001b[43msheet_name\u001b[49m\u001b[38;5;241;43m=\u001b[39;49m\u001b[43msheet_name\u001b[49m\u001b[43m,\u001b[49m\n\u001b[0;32m   2255\u001b[0m \u001b[43m    \u001b[49m\u001b[43mstartrow\u001b[49m\u001b[38;5;241;43m=\u001b[39;49m\u001b[43mstartrow\u001b[49m\u001b[43m,\u001b[49m\n\u001b[0;32m   2256\u001b[0m \u001b[43m    \u001b[49m\u001b[43mstartcol\u001b[49m\u001b[38;5;241;43m=\u001b[39;49m\u001b[43mstartcol\u001b[49m\u001b[43m,\u001b[49m\n\u001b[0;32m   2257\u001b[0m \u001b[43m    \u001b[49m\u001b[43mfreeze_panes\u001b[49m\u001b[38;5;241;43m=\u001b[39;49m\u001b[43mfreeze_panes\u001b[49m\u001b[43m,\u001b[49m\n\u001b[0;32m   2258\u001b[0m \u001b[43m    \u001b[49m\u001b[43mengine\u001b[49m\u001b[38;5;241;43m=\u001b[39;49m\u001b[43mengine\u001b[49m\u001b[43m,\u001b[49m\n\u001b[0;32m   2259\u001b[0m \u001b[43m    \u001b[49m\u001b[43mstorage_options\u001b[49m\u001b[38;5;241;43m=\u001b[39;49m\u001b[43mstorage_options\u001b[49m\u001b[43m,\u001b[49m\n\u001b[0;32m   2260\u001b[0m \u001b[43m\u001b[49m\u001b[43m)\u001b[49m\n",
      "File \u001b[1;32mc:\\anaconda\\Lib\\site-packages\\pandas\\io\\formats\\excel.py:934\u001b[0m, in \u001b[0;36mExcelFormatter.write\u001b[1;34m(self, writer, sheet_name, startrow, startcol, freeze_panes, engine, storage_options)\u001b[0m\n\u001b[0;32m    930\u001b[0m     need_save \u001b[38;5;241m=\u001b[39m \u001b[38;5;28;01mFalse\u001b[39;00m\n\u001b[0;32m    931\u001b[0m \u001b[38;5;28;01melse\u001b[39;00m:\n\u001b[0;32m    932\u001b[0m     \u001b[38;5;66;03m# error: Cannot instantiate abstract class 'ExcelWriter' with abstract\u001b[39;00m\n\u001b[0;32m    933\u001b[0m     \u001b[38;5;66;03m# attributes 'engine', 'save', 'supported_extensions' and 'write_cells'\u001b[39;00m\n\u001b[1;32m--> 934\u001b[0m     writer \u001b[38;5;241m=\u001b[39m \u001b[43mExcelWriter\u001b[49m\u001b[43m(\u001b[49m\u001b[43m  \u001b[49m\u001b[38;5;66;43;03m# type: ignore[abstract]\u001b[39;49;00m\n\u001b[0;32m    935\u001b[0m \u001b[43m        \u001b[49m\u001b[43mwriter\u001b[49m\u001b[43m,\u001b[49m\u001b[43m \u001b[49m\u001b[43mengine\u001b[49m\u001b[38;5;241;43m=\u001b[39;49m\u001b[43mengine\u001b[49m\u001b[43m,\u001b[49m\u001b[43m \u001b[49m\u001b[43mstorage_options\u001b[49m\u001b[38;5;241;43m=\u001b[39;49m\u001b[43mstorage_options\u001b[49m\n\u001b[0;32m    936\u001b[0m \u001b[43m    \u001b[49m\u001b[43m)\u001b[49m\n\u001b[0;32m    937\u001b[0m     need_save \u001b[38;5;241m=\u001b[39m \u001b[38;5;28;01mTrue\u001b[39;00m\n\u001b[0;32m    939\u001b[0m \u001b[38;5;28;01mtry\u001b[39;00m:\n",
      "File \u001b[1;32mc:\\anaconda\\Lib\\site-packages\\pandas\\io\\excel\\_openpyxl.py:60\u001b[0m, in \u001b[0;36mOpenpyxlWriter.__init__\u001b[1;34m(self, path, engine, date_format, datetime_format, mode, storage_options, if_sheet_exists, engine_kwargs, **kwargs)\u001b[0m\n\u001b[0;32m     56\u001b[0m \u001b[38;5;28;01mfrom\u001b[39;00m \u001b[38;5;21;01mopenpyxl\u001b[39;00m\u001b[38;5;21;01m.\u001b[39;00m\u001b[38;5;21;01mworkbook\u001b[39;00m \u001b[38;5;28;01mimport\u001b[39;00m Workbook\n\u001b[0;32m     58\u001b[0m engine_kwargs \u001b[38;5;241m=\u001b[39m combine_kwargs(engine_kwargs, kwargs)\n\u001b[1;32m---> 60\u001b[0m \u001b[38;5;28;43msuper\u001b[39;49m\u001b[43m(\u001b[49m\u001b[43m)\u001b[49m\u001b[38;5;241;43m.\u001b[39;49m\u001b[38;5;21;43m__init__\u001b[39;49m\u001b[43m(\u001b[49m\n\u001b[0;32m     61\u001b[0m \u001b[43m    \u001b[49m\u001b[43mpath\u001b[49m\u001b[43m,\u001b[49m\n\u001b[0;32m     62\u001b[0m \u001b[43m    \u001b[49m\u001b[43mmode\u001b[49m\u001b[38;5;241;43m=\u001b[39;49m\u001b[43mmode\u001b[49m\u001b[43m,\u001b[49m\n\u001b[0;32m     63\u001b[0m \u001b[43m    \u001b[49m\u001b[43mstorage_options\u001b[49m\u001b[38;5;241;43m=\u001b[39;49m\u001b[43mstorage_options\u001b[49m\u001b[43m,\u001b[49m\n\u001b[0;32m     64\u001b[0m \u001b[43m    \u001b[49m\u001b[43mif_sheet_exists\u001b[49m\u001b[38;5;241;43m=\u001b[39;49m\u001b[43mif_sheet_exists\u001b[49m\u001b[43m,\u001b[49m\n\u001b[0;32m     65\u001b[0m \u001b[43m    \u001b[49m\u001b[43mengine_kwargs\u001b[49m\u001b[38;5;241;43m=\u001b[39;49m\u001b[43mengine_kwargs\u001b[49m\u001b[43m,\u001b[49m\n\u001b[0;32m     66\u001b[0m \u001b[43m\u001b[49m\u001b[43m)\u001b[49m\n\u001b[0;32m     68\u001b[0m \u001b[38;5;66;03m# ExcelWriter replaced \"a\" by \"r+\" to allow us to first read the excel file from\u001b[39;00m\n\u001b[0;32m     69\u001b[0m \u001b[38;5;66;03m# the file and later write to it\u001b[39;00m\n\u001b[0;32m     70\u001b[0m \u001b[38;5;28;01mif\u001b[39;00m \u001b[38;5;124m\"\u001b[39m\u001b[38;5;124mr+\u001b[39m\u001b[38;5;124m\"\u001b[39m \u001b[38;5;129;01min\u001b[39;00m \u001b[38;5;28mself\u001b[39m\u001b[38;5;241m.\u001b[39m_mode:  \u001b[38;5;66;03m# Load from existing workbook\u001b[39;00m\n",
      "File \u001b[1;32mc:\\anaconda\\Lib\\site-packages\\pandas\\io\\excel\\_base.py:1219\u001b[0m, in \u001b[0;36mExcelWriter.__init__\u001b[1;34m(self, path, engine, date_format, datetime_format, mode, storage_options, if_sheet_exists, engine_kwargs)\u001b[0m\n\u001b[0;32m   1215\u001b[0m \u001b[38;5;28mself\u001b[39m\u001b[38;5;241m.\u001b[39m_handles \u001b[38;5;241m=\u001b[39m IOHandles(\n\u001b[0;32m   1216\u001b[0m     cast(IO[\u001b[38;5;28mbytes\u001b[39m], path), compression\u001b[38;5;241m=\u001b[39m{\u001b[38;5;124m\"\u001b[39m\u001b[38;5;124mcompression\u001b[39m\u001b[38;5;124m\"\u001b[39m: \u001b[38;5;28;01mNone\u001b[39;00m}\n\u001b[0;32m   1217\u001b[0m )\n\u001b[0;32m   1218\u001b[0m \u001b[38;5;28;01mif\u001b[39;00m \u001b[38;5;129;01mnot\u001b[39;00m \u001b[38;5;28misinstance\u001b[39m(path, ExcelWriter):\n\u001b[1;32m-> 1219\u001b[0m     \u001b[38;5;28mself\u001b[39m\u001b[38;5;241m.\u001b[39m_handles \u001b[38;5;241m=\u001b[39m \u001b[43mget_handle\u001b[49m\u001b[43m(\u001b[49m\n\u001b[0;32m   1220\u001b[0m \u001b[43m        \u001b[49m\u001b[43mpath\u001b[49m\u001b[43m,\u001b[49m\u001b[43m \u001b[49m\u001b[43mmode\u001b[49m\u001b[43m,\u001b[49m\u001b[43m \u001b[49m\u001b[43mstorage_options\u001b[49m\u001b[38;5;241;43m=\u001b[39;49m\u001b[43mstorage_options\u001b[49m\u001b[43m,\u001b[49m\u001b[43m \u001b[49m\u001b[43mis_text\u001b[49m\u001b[38;5;241;43m=\u001b[39;49m\u001b[38;5;28;43;01mFalse\u001b[39;49;00m\n\u001b[0;32m   1221\u001b[0m \u001b[43m    \u001b[49m\u001b[43m)\u001b[49m\n\u001b[0;32m   1222\u001b[0m \u001b[38;5;28mself\u001b[39m\u001b[38;5;241m.\u001b[39m_cur_sheet \u001b[38;5;241m=\u001b[39m \u001b[38;5;28;01mNone\u001b[39;00m\n\u001b[0;32m   1224\u001b[0m \u001b[38;5;28;01mif\u001b[39;00m date_format \u001b[38;5;129;01mis\u001b[39;00m \u001b[38;5;28;01mNone\u001b[39;00m:\n",
      "File \u001b[1;32mc:\\anaconda\\Lib\\site-packages\\pandas\\io\\common.py:868\u001b[0m, in \u001b[0;36mget_handle\u001b[1;34m(path_or_buf, mode, encoding, compression, memory_map, is_text, errors, storage_options)\u001b[0m\n\u001b[0;32m    859\u001b[0m         handle \u001b[38;5;241m=\u001b[39m \u001b[38;5;28mopen\u001b[39m(\n\u001b[0;32m    860\u001b[0m             handle,\n\u001b[0;32m    861\u001b[0m             ioargs\u001b[38;5;241m.\u001b[39mmode,\n\u001b[1;32m   (...)\u001b[0m\n\u001b[0;32m    864\u001b[0m             newline\u001b[38;5;241m=\u001b[39m\u001b[38;5;124m\"\u001b[39m\u001b[38;5;124m\"\u001b[39m,\n\u001b[0;32m    865\u001b[0m         )\n\u001b[0;32m    866\u001b[0m     \u001b[38;5;28;01melse\u001b[39;00m:\n\u001b[0;32m    867\u001b[0m         \u001b[38;5;66;03m# Binary mode\u001b[39;00m\n\u001b[1;32m--> 868\u001b[0m         handle \u001b[38;5;241m=\u001b[39m \u001b[38;5;28;43mopen\u001b[39;49m\u001b[43m(\u001b[49m\u001b[43mhandle\u001b[49m\u001b[43m,\u001b[49m\u001b[43m \u001b[49m\u001b[43mioargs\u001b[49m\u001b[38;5;241;43m.\u001b[39;49m\u001b[43mmode\u001b[49m\u001b[43m)\u001b[49m\n\u001b[0;32m    869\u001b[0m     handles\u001b[38;5;241m.\u001b[39mappend(handle)\n\u001b[0;32m    871\u001b[0m \u001b[38;5;66;03m# Convert BytesIO or file objects passed with an encoding\u001b[39;00m\n",
      "\u001b[1;31mPermissionError\u001b[0m: [Errno 13] Permission denied: 'Produtos.xlsx'"
     ]
    }
   ],
   "source": [
    "import win32com.client as win32\n",
    "outlook = win32.Dispatch('outlook.application')\n",
    "\n",
    "#salvar o arquivo\n",
    "produtos.to_excel('Produtos.xlsx')\n",
    "#enviar email\n",
    "\n",
    "if enviar_email:\n",
    "    #enviar email\n",
    "    mail = outlook.CreateItem(0)\n",
    "    mail.To = 'pythonimpressionador+compras@gmail.com'\n",
    "    mail.Subject = f'Produto(s) Encontrado(s) com mais de {desconto_min:.0%} de Desconto'\n",
    "    \n",
    "    #filtrar a tabela de produtos\n",
    "    tabela_filtrada = produtos.loc[produtos['Preço Atual'] <= produtos['Preço Original']*(1-desconto_min), :]\n",
    "    \n",
    "    mail.HTMLBody = f'<p>Esses sãos os produtos com mais de {desconto_min:.0%} de desconto</p>{tabela_filtrada.to_html()}'\n",
    "\n",
    "    mail.Send()\n",
    "    \n",
    "#finalizando o código\n",
    "print('Fim Análise')\n",
    "driver.quit()"
   ]
  }
 ],
 "metadata": {
  "kernelspec": {
   "display_name": "Python 3",
   "language": "python",
   "name": "python3"
  },
  "language_info": {
   "codemirror_mode": {
    "name": "ipython",
    "version": 3
   },
   "file_extension": ".py",
   "mimetype": "text/x-python",
   "name": "python",
   "nbconvert_exporter": "python",
   "pygments_lexer": "ipython3",
   "version": "3.11.5"
  }
 },
 "nbformat": 4,
 "nbformat_minor": 4
}
